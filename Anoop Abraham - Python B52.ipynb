{
 "cells": [
  {
   "cell_type": "code",
   "execution_count": 1,
   "id": "59a085a4",
   "metadata": {},
   "outputs": [
    {
     "name": "stdout",
     "output_type": "stream",
     "text": [
      "anoop abraham\n"
     ]
    }
   ],
   "source": [
    "fullname = \"anoop abraham\"\n",
    "print(fullname)"
   ]
  },
  {
   "cell_type": "code",
   "execution_count": 2,
   "id": "acfc97e3",
   "metadata": {},
   "outputs": [
    {
     "name": "stdout",
     "output_type": "stream",
     "text": [
      "Anoop Abraham\n"
     ]
    }
   ],
   "source": [
    "print(fullname.title())"
   ]
  },
  {
   "cell_type": "code",
   "execution_count": 3,
   "id": "c605ee60",
   "metadata": {},
   "outputs": [
    {
     "name": "stdout",
     "output_type": "stream",
     "text": [
      "ANOOP ABRAHAM\n"
     ]
    }
   ],
   "source": [
    "print(fullname.upper())"
   ]
  },
  {
   "cell_type": "code",
   "execution_count": 4,
   "id": "d2226f40",
   "metadata": {},
   "outputs": [
    {
     "name": "stdout",
     "output_type": "stream",
     "text": [
      "anoop abraham\n"
     ]
    }
   ],
   "source": [
    "print(fullname.lower())"
   ]
  },
  {
   "cell_type": "code",
   "execution_count": 9,
   "id": "9e28556c",
   "metadata": {},
   "outputs": [],
   "source": [
    "first = \"Anoop\""
   ]
  },
  {
   "cell_type": "code",
   "execution_count": null,
   "id": "c2f85854",
   "metadata": {},
   "outputs": [],
   "source": [
    "second = \"Abraham\""
   ]
  },
  {
   "cell_type": "code",
   "execution_count": 32,
   "id": "be2fd0b7",
   "metadata": {},
   "outputs": [
    {
     "ename": "NameError",
     "evalue": "name 'first' is not defined",
     "output_type": "error",
     "traceback": [
      "\u001b[1;31m---------------------------------------------------------------------------\u001b[0m",
      "\u001b[1;31mNameError\u001b[0m                                 Traceback (most recent call last)",
      "\u001b[1;32m<ipython-input-32-5f538ee0fd51>\u001b[0m in \u001b[0;36m<module>\u001b[1;34m\u001b[0m\n\u001b[1;32m----> 1\u001b[1;33m \u001b[0mfullname1\u001b[0m \u001b[1;33m=\u001b[0m \u001b[1;34mf\"{first} {second}\"\u001b[0m\u001b[1;33m\u001b[0m\u001b[1;33m\u001b[0m\u001b[0m\n\u001b[0m\u001b[0;32m      2\u001b[0m \u001b[1;33m\u001b[0m\u001b[0m\n\u001b[0;32m      3\u001b[0m \u001b[0mprint\u001b[0m\u001b[1;33m(\u001b[0m\u001b[0mfullname1\u001b[0m\u001b[1;33m)\u001b[0m\u001b[1;33m\u001b[0m\u001b[1;33m\u001b[0m\u001b[0m\n",
      "\u001b[1;31mNameError\u001b[0m: name 'first' is not defined"
     ]
    }
   ],
   "source": [
    "fullname1 = f\"{first} {second}\"\n",
    "\n",
    "print(fullname1)"
   ]
  },
  {
   "cell_type": "code",
   "execution_count": null,
   "id": "b38d28b6",
   "metadata": {},
   "outputs": [],
   "source": []
  },
  {
   "cell_type": "code",
   "execution_count": 22,
   "id": "b9c40694",
   "metadata": {},
   "outputs": [
    {
     "name": "stdout",
     "output_type": "stream",
     "text": [
      "favorite language : pythoncjavac++\n"
     ]
    }
   ],
   "source": [
    "print(\"favorite language : pythoncjavac++\")"
   ]
  },
  {
   "cell_type": "code",
   "execution_count": 23,
   "id": "cf317ac6",
   "metadata": {},
   "outputs": [
    {
     "name": "stdout",
     "output_type": "stream",
     "text": [
      "favorite language : \n",
      "python\n",
      "c\n",
      "java\n",
      "c++\n"
     ]
    }
   ],
   "source": [
    "print(\"favorite language : \\npython\\nc\\njava\\nc++\")"
   ]
  },
  {
   "cell_type": "code",
   "execution_count": 24,
   "id": "df04687f",
   "metadata": {},
   "outputs": [
    {
     "name": "stdout",
     "output_type": "stream",
     "text": [
      "favorite language : \n",
      "\tpython\n",
      "\tc\n",
      "\tjava\n",
      "\tc++\n"
     ]
    }
   ],
   "source": [
    "print(\"favorite language : \\n\\tpython\\n\\tc\\n\\tjava\\n\\tc++\")"
   ]
  },
  {
   "cell_type": "code",
   "execution_count": 26,
   "id": "07527864",
   "metadata": {},
   "outputs": [
    {
     "name": "stdout",
     "output_type": "stream",
     "text": [
      "          Anoop\n"
     ]
    }
   ],
   "source": [
    "name1 = \"          Anoop\"\n",
    "print(name1)"
   ]
  },
  {
   "cell_type": "code",
   "execution_count": 28,
   "id": "e47a68de",
   "metadata": {},
   "outputs": [
    {
     "name": "stdout",
     "output_type": "stream",
     "text": [
      "Anoop\n"
     ]
    }
   ],
   "source": [
    "print(name1.lstrip())"
   ]
  },
  {
   "cell_type": "code",
   "execution_count": 30,
   "id": "17bdde8c",
   "metadata": {},
   "outputs": [
    {
     "name": "stdout",
     "output_type": "stream",
     "text": [
      "Anoop\n"
     ]
    }
   ],
   "source": [
    "name2 = \"Anoop         \"\n",
    "print(name2.rstrip())"
   ]
  },
  {
   "cell_type": "code",
   "execution_count": 31,
   "id": "a4ccc520",
   "metadata": {},
   "outputs": [
    {
     "name": "stdout",
     "output_type": "stream",
     "text": [
      "Anoop\n"
     ]
    }
   ],
   "source": [
    "name3 = \"        Anoop     \"\n",
    "print(name3.strip())"
   ]
  }
 ],
 "metadata": {
  "kernelspec": {
   "display_name": "Python 3",
   "language": "python",
   "name": "python3"
  },
  "language_info": {
   "codemirror_mode": {
    "name": "ipython",
    "version": 3
   },
   "file_extension": ".py",
   "mimetype": "text/x-python",
   "name": "python",
   "nbconvert_exporter": "python",
   "pygments_lexer": "ipython3",
   "version": "3.8.8"
  }
 },
 "nbformat": 4,
 "nbformat_minor": 5
}
