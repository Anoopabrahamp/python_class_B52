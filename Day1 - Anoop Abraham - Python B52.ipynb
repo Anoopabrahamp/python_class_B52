{
 "cells": [
  {
   "cell_type": "code",
   "execution_count": 1,
   "id": "3b4a0ba7",
   "metadata": {},
   "outputs": [
    {
     "name": "stdout",
     "output_type": "stream",
     "text": [
      "Hello World.. python programming\n"
     ]
    }
   ],
   "source": [
    "print(\"Hello World.. python programming\")"
   ]
  },
  {
   "cell_type": "code",
   "execution_count": null,
   "id": "b0cea396",
   "metadata": {},
   "outputs": [],
   "source": []
  }
 ],
 "metadata": {
  "kernelspec": {
   "display_name": "Python 3",
   "language": "python",
   "name": "python3"
  },
  "language_info": {
   "codemirror_mode": {
    "name": "ipython",
    "version": 3
   },
   "file_extension": ".py",
   "mimetype": "text/x-python",
   "name": "python",
   "nbconvert_exporter": "python",
   "pygments_lexer": "ipython3",
   "version": "3.8.8"
  }
 },
 "nbformat": 4,
 "nbformat_minor": 5
}
